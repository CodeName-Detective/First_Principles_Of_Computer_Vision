{
 "cells": [
  {
   "cell_type": "code",
   "execution_count": 1,
   "id": "c8982fe3",
   "metadata": {},
   "outputs": [
    {
     "ename": "AttributeError",
     "evalue": "partially initialized module 'cv2' has no attribute 'gapi_wip_gst_GStreamerPipeline' (most likely due to a circular import)",
     "output_type": "error",
     "traceback": [
      "\u001b[0;31m---------------------------------------------------------------------------\u001b[0m",
      "\u001b[0;31mAttributeError\u001b[0m                            Traceback (most recent call last)",
      "\u001b[1;32m/Users/shri/Documents/ESDS/Semester_2/Computer_Vision_and_Image_Processing/Homework/Homework3/Untitled.ipynb Cell 1\u001b[0m line \u001b[0;36m1\n\u001b[0;32m----> <a href='vscode-notebook-cell:/Users/shri/Documents/ESDS/Semester_2/Computer_Vision_and_Image_Processing/Homework/Homework3/Untitled.ipynb#W0sZmlsZQ%3D%3D?line=0'>1</a>\u001b[0m \u001b[39mimport\u001b[39;00m \u001b[39mcv2\u001b[39;00m\n\u001b[1;32m      <a href='vscode-notebook-cell:/Users/shri/Documents/ESDS/Semester_2/Computer_Vision_and_Image_Processing/Homework/Homework3/Untitled.ipynb#W0sZmlsZQ%3D%3D?line=1'>2</a>\u001b[0m \u001b[39mimport\u001b[39;00m \u001b[39mnumpy\u001b[39;00m \u001b[39mas\u001b[39;00m \u001b[39mnp\u001b[39;00m\n",
      "File \u001b[0;32m~/Documents/programming_environments/cv_env/lib/python3.10/site-packages/cv2/__init__.py:181\u001b[0m\n\u001b[1;32m    176\u001b[0m             \u001b[39mif\u001b[39;00m DEBUG: \u001b[39mprint\u001b[39m(\u001b[39m\"\u001b[39m\u001b[39mExtra Python code for\u001b[39m\u001b[39m\"\u001b[39m, submodule, \u001b[39m\"\u001b[39m\u001b[39mis loaded\u001b[39m\u001b[39m\"\u001b[39m)\n\u001b[1;32m    178\u001b[0m     \u001b[39mif\u001b[39;00m DEBUG: \u001b[39mprint\u001b[39m(\u001b[39m'\u001b[39m\u001b[39mOpenCV loader: DONE\u001b[39m\u001b[39m'\u001b[39m)\n\u001b[0;32m--> 181\u001b[0m bootstrap()\n",
      "File \u001b[0;32m~/Documents/programming_environments/cv_env/lib/python3.10/site-packages/cv2/__init__.py:175\u001b[0m, in \u001b[0;36mbootstrap\u001b[0;34m()\u001b[0m\n\u001b[1;32m    172\u001b[0m \u001b[39mif\u001b[39;00m DEBUG: \u001b[39mprint\u001b[39m(\u001b[39m'\u001b[39m\u001b[39mOpenCV loader: binary extension... OK\u001b[39m\u001b[39m'\u001b[39m)\n\u001b[1;32m    174\u001b[0m \u001b[39mfor\u001b[39;00m submodule \u001b[39min\u001b[39;00m __collect_extra_submodules(DEBUG):\n\u001b[0;32m--> 175\u001b[0m     \u001b[39mif\u001b[39;00m __load_extra_py_code_for_module(\u001b[39m\"\u001b[39;49m\u001b[39mcv2\u001b[39;49m\u001b[39m\"\u001b[39;49m, submodule, DEBUG):\n\u001b[1;32m    176\u001b[0m         \u001b[39mif\u001b[39;00m DEBUG: \u001b[39mprint\u001b[39m(\u001b[39m\"\u001b[39m\u001b[39mExtra Python code for\u001b[39m\u001b[39m\"\u001b[39m, submodule, \u001b[39m\"\u001b[39m\u001b[39mis loaded\u001b[39m\u001b[39m\"\u001b[39m)\n\u001b[1;32m    178\u001b[0m \u001b[39mif\u001b[39;00m DEBUG: \u001b[39mprint\u001b[39m(\u001b[39m'\u001b[39m\u001b[39mOpenCV loader: DONE\u001b[39m\u001b[39m'\u001b[39m)\n",
      "File \u001b[0;32m~/Documents/programming_environments/cv_env/lib/python3.10/site-packages/cv2/__init__.py:28\u001b[0m, in \u001b[0;36m__load_extra_py_code_for_module\u001b[0;34m(base, name, enable_debug_print)\u001b[0m\n\u001b[1;32m     26\u001b[0m native_module \u001b[39m=\u001b[39m sys\u001b[39m.\u001b[39mmodules\u001b[39m.\u001b[39mpop(module_name, \u001b[39mNone\u001b[39;00m)\n\u001b[1;32m     27\u001b[0m \u001b[39mtry\u001b[39;00m:\n\u001b[0;32m---> 28\u001b[0m     py_module \u001b[39m=\u001b[39m importlib\u001b[39m.\u001b[39;49mimport_module(module_name)\n\u001b[1;32m     29\u001b[0m \u001b[39mexcept\u001b[39;00m \u001b[39mImportError\u001b[39;00m \u001b[39mas\u001b[39;00m err:\n\u001b[1;32m     30\u001b[0m     \u001b[39mif\u001b[39;00m enable_debug_print:\n",
      "File \u001b[0;32m~/Documents/programming_environments/cv_env/lib/python3.10/importlib/__init__.py:126\u001b[0m, in \u001b[0;36mimport_module\u001b[0;34m(name, package)\u001b[0m\n\u001b[1;32m    124\u001b[0m             \u001b[39mbreak\u001b[39;00m\n\u001b[1;32m    125\u001b[0m         level \u001b[39m+\u001b[39m\u001b[39m=\u001b[39m \u001b[39m1\u001b[39m\n\u001b[0;32m--> 126\u001b[0m \u001b[39mreturn\u001b[39;00m _bootstrap\u001b[39m.\u001b[39;49m_gcd_import(name[level:], package, level)\n",
      "File \u001b[0;32m~/Documents/programming_environments/cv_env/lib/python3.10/site-packages/cv2/gapi/__init__.py:301\u001b[0m\n\u001b[1;32m    296\u001b[0m         \u001b[39mreturn\u001b[39;00m \u001b[39mcls\u001b[39m\n\u001b[1;32m    298\u001b[0m     \u001b[39mreturn\u001b[39;00m kernel_with_params\n\u001b[0;32m--> 301\u001b[0m cv\u001b[39m.\u001b[39mgapi\u001b[39m.\u001b[39mwip\u001b[39m.\u001b[39mGStreamerPipeline \u001b[39m=\u001b[39m cv\u001b[39m.\u001b[39;49mgapi_wip_gst_GStreamerPipeline\n",
      "\u001b[0;31mAttributeError\u001b[0m: partially initialized module 'cv2' has no attribute 'gapi_wip_gst_GStreamerPipeline' (most likely due to a circular import)"
     ]
    }
   ],
   "source": [
    "import cv2\n",
    "import numpy as np"
   ]
  },
  {
   "cell_type": "code",
   "execution_count": 2,
   "id": "7257bd4b",
   "metadata": {},
   "outputs": [
    {
     "data": {
      "text/plain": [
       "True"
      ]
     },
     "execution_count": 2,
     "metadata": {},
     "output_type": "execute_result"
    }
   ],
   "source": [
    "image = cv2.imread('Lenna.png')\n",
    "output_image = np.zeros_like(image)\n",
    "\n",
    "for i in range(image.shape[0]):\n",
    "    for j in range(image.shape[1]):\n",
    "        pixel = image[i, j]\n",
    "        R, G, B = pixel[2] / 255.0, pixel[1] / 255.0, pixel[0] / 255.0\n",
    "        V = max(R, G, B)\n",
    "\n",
    "        if V != 0:\n",
    "            S = (V - min(R, G, B)) / V\n",
    "        else:\n",
    "            S = 0\n",
    "\n",
    "        if V == R:\n",
    "            H = 60 * (G - B) / (V - min(R, G, B))\n",
    "        elif V == G:\n",
    "            H = 120 + 60 * (B - R) / (V - min(R, G, B))\n",
    "        elif V == B:\n",
    "            H = 240 + 60 * (R - G) / (V - min(R, G, B))\n",
    "        else:\n",
    "            H = 0\n",
    "\n",
    "        if H < 0:\n",
    "            H += 360\n",
    "\n",
    "        output_image[i, j] = [int(H / 2), int(S * 255), int(V * 255)]\n",
    "        \n",
    "cv2.imwrite('hsv_image_1.png', output_image)"
   ]
  },
  {
   "cell_type": "code",
   "execution_count": 3,
   "id": "ee1961bb",
   "metadata": {},
   "outputs": [
    {
     "data": {
      "text/plain": [
       "True"
      ]
     },
     "execution_count": 3,
     "metadata": {},
     "output_type": "execute_result"
    }
   ],
   "source": [
    "image = cv2.imread('Lenna.png')\n",
    "output_image = np.zeros_like(image)\n",
    "\n",
    "for i in range(image.shape[0]):\n",
    "    for j in range(image.shape[1]):\n",
    "        pixel = image[i, j]\n",
    "        R, G, B = pixel[2] / 255.0, pixel[1] / 255.0, pixel[0] / 255.0\n",
    "        \n",
    "        I = (R + G + B) / 3\n",
    "        \n",
    "        S = 1 - (1 / I) * min(R, G, B)\n",
    "        \n",
    "        theta = np.arccos(0.5 * ((R - G) + (R - B)) / np.sqrt((R - G)**2 + (R - B) * (G - B)))\n",
    "        if B <= G:\n",
    "            H = theta\n",
    "        else:\n",
    "            H = 360 - theta\n",
    "        \n",
    "        output_image[i, j] = [int(H), int(S * 255), int(I * 255)]\n",
    "cv2.imwrite('hsv_image_2.png', output_image)"
   ]
  },
  {
   "cell_type": "code",
   "execution_count": 4,
   "id": "32fa772b",
   "metadata": {},
   "outputs": [
    {
     "data": {
      "text/plain": [
       "True"
      ]
     },
     "execution_count": 4,
     "metadata": {},
     "output_type": "execute_result"
    }
   ],
   "source": [
    "image = cv2.imread('Lenna.png')\n",
    "output_image = np.zeros_like(image)\n",
    "\n",
    "for i in range(image.shape[0]):\n",
    "    for j in range(image.shape[1]):\n",
    "        pixel = image[i, j]\n",
    "        R, G, B = pixel[2] / 255.0, pixel[1] / 255.0, pixel[0] / 255.0\n",
    "        \n",
    "        c = 1 - R\n",
    "        m = 1 - G\n",
    "        y = 1 - B\n",
    "        K = min(c, m, y)\n",
    "        if K == 1:\n",
    "            C, M, Y = 0, 0, 0\n",
    "        else:\n",
    "            C = (c - K) / (1 - K)\n",
    "            M = (m - K) / (1 - K)\n",
    "            Y = (y - K) / (1 - K)\n",
    "            output_image[i, j] = [int(C * 255), int(M * 255), int(Y * 255)]\n",
    "cv2.imwrite('cmyk_image_2.png', output_image)"
   ]
  },
  {
   "cell_type": "code",
   "execution_count": 5,
   "id": "6d260c8d",
   "metadata": {},
   "outputs": [
    {
     "data": {
      "text/plain": [
       "True"
      ]
     },
     "execution_count": 5,
     "metadata": {},
     "output_type": "execute_result"
    }
   ],
   "source": [
    "image = cv2.imread('Lenna.png')\n",
    "output_image = np.zeros_like(image)\n",
    "\n",
    "const_matrix = np.array([[0.412453, 0.212671, 0.019334],\n",
    "                      [0.357580, 0.715160, 0.119193],\n",
    "                      [0.180423, 0.072169, 0.950227]])\n",
    "\n",
    "for i in range(image.shape[0]):\n",
    "    for j in range(image.shape[1]):\n",
    "        pixel = image[i, j]\n",
    "        R, G, B = pixel[2] / 255.0, pixel[1] / 255.0, pixel[0] / 255.0\n",
    "        \n",
    "        XYZ = np.dot(const_matrix, np.array([R, G, B]))\n",
    "        X, Y, Z = XYZ[0] / 0.950456, XYZ[1], XYZ[2] / 1.088754\n",
    "        \n",
    "        if Y > 0.008856:\n",
    "            L = 116 * np.cbrt(Y) - 16\n",
    "            a = 500 * (np.cbrt(X) - np.cbrt(Y)) + 128\n",
    "            b = 500 * (np.cbrt(Y) - np.cbrt(X)) + 128\n",
    "        else: \n",
    "            L = 903.3 * Y\n",
    "            a = 500 * ((7.787 * X + 16 / 116) - (7.787 * Y + 16 / 116)) + 128\n",
    "            b = 500 * ((7.787 * Y + 16 / 116) - (7.787 * X + 16 / 116)) + 128\n",
    "            \n",
    "        output_image[i, j] = [int(L * 255 / 100), int(a + 128), int(b + 128)]\n",
    "cv2.imwrite('lab_image.png', output_image)"
   ]
  },
  {
   "cell_type": "code",
   "execution_count": 6,
   "id": "c8b895ac",
   "metadata": {},
   "outputs": [
    {
     "data": {
      "text/plain": [
       "True"
      ]
     },
     "execution_count": 6,
     "metadata": {},
     "output_type": "execute_result"
    }
   ],
   "source": [
    "image = cv2.imread('Noisy_image.png', cv2.IMREAD_GRAYSCALE)\n",
    "\n",
    "kernel = np.array([[1, 1, 1],\n",
    "                   [1, 1, 1],\n",
    "                   [1, 1, 1]]) / 9.0\n",
    "\n",
    "image_height, image_width = image.shape\n",
    "kernel_height, kernel_width = kernel.shape\n",
    "padding_height = kernel_height // 2\n",
    "padding_width = kernel_width // 2\n",
    "\n",
    "convolved_image = np.zeros((image_height, image_width), dtype=np.uint8)\n",
    "\n",
    "for i in range(padding_height, image_height - padding_height):\n",
    "    for j in range(padding_width, image_width - padding_width):\n",
    "        sum = 0\n",
    "        for m in range(-padding_height, padding_height + 1):\n",
    "            for n in range(-padding_width, padding_width + 1):\n",
    "                sum += image[i + m, j + n] * kernel[m + padding_height, n + padding_width]\n",
    "        convolved_image[i, j] = np.clip(int(sum), 0, 255)\n",
    "\n",
    "\n",
    "cv2.imwrite('convolved_image.png', convolved_image)\n"
   ]
  },
  {
   "cell_type": "code",
   "execution_count": 7,
   "id": "36fd2e20",
   "metadata": {},
   "outputs": [
    {
     "data": {
      "text/plain": [
       "True"
      ]
     },
     "execution_count": 7,
     "metadata": {},
     "output_type": "execute_result"
    }
   ],
   "source": [
    "image = cv2.imread('Noisy_image.png', cv2.IMREAD_GRAYSCALE)\n",
    "\n",
    "kernel = np.array([[1, 1, 1],\n",
    "                   [1, 1, 1],\n",
    "                   [1, 1, 1]]) / 9.0\n",
    "\n",
    "image_height, image_width = image.shape\n",
    "kernel_height, kernel_width = kernel.shape\n",
    "padding_height = kernel_height // 2\n",
    "padding_width = kernel_width // 2\n",
    "\n",
    "average_image = np.zeros((image_height, image_width), dtype=np.uint8)\n",
    "\n",
    "for i in range(padding_height, image_height - padding_height):\n",
    "    for j in range(padding_width, image_width - padding_width):\n",
    "        sum = 0\n",
    "        for m in range(-padding_height, padding_height + 1):\n",
    "            for n in range(-padding_width, padding_width + 1):\n",
    "                sum += image[i + m, j + n] * kernel[m + padding_height, n + padding_width]\n",
    "        average_image[i, j] = np.clip(int(sum), 0, 255)\n",
    "\n",
    "cv2.imwrite('average_image.png', average_image)"
   ]
  },
  {
   "cell_type": "code",
   "execution_count": 8,
   "id": "73b6900f",
   "metadata": {},
   "outputs": [
    {
     "data": {
      "text/plain": [
       "True"
      ]
     },
     "execution_count": 8,
     "metadata": {},
     "output_type": "execute_result"
    }
   ],
   "source": [
    "image = cv2.imread('Noisy_image.png', cv2.IMREAD_GRAYSCALE)\n",
    "\n",
    "kernel = np.array([[1, 2, 1],\n",
    "                   [2, 4, 2],\n",
    "                   [1, 2, 1]]) / 16.0\n",
    "\n",
    "image_height, image_width = image.shape\n",
    "kernel_height, kernel_width = kernel.shape\n",
    "padding_height = kernel_height // 2\n",
    "padding_width = kernel_width // 2\n",
    "\n",
    "gaussian_image = np.zeros((image_height, image_width), dtype=np.uint8)\n",
    "\n",
    "for i in range(padding_height, image_height - padding_height):\n",
    "    for j in range(padding_width, image_width - padding_width):\n",
    "        sum = 0\n",
    "        for m in range(-padding_height, padding_height + 1):\n",
    "            for n in range(-padding_width, padding_width + 1):\n",
    "                sum += image[i + m, j + n] * kernel[m + padding_height, n + padding_width]\n",
    "        gaussian_image[i, j] = np.clip(int(sum), 0, 255)\n",
    "\n",
    "cv2.imwrite('gaussian_image.png', gaussian_image)"
   ]
  },
  {
   "cell_type": "code",
   "execution_count": 9,
   "id": "637f12e2",
   "metadata": {},
   "outputs": [
    {
     "data": {
      "text/plain": [
       "True"
      ]
     },
     "execution_count": 9,
     "metadata": {},
     "output_type": "execute_result"
    }
   ],
   "source": [
    "image = cv2.imread('Noisy_image.png', cv2.IMREAD_GRAYSCALE)\n",
    "\n",
    "image_height, image_width = image.shape\n",
    "\n",
    "kernel_size = 5\n",
    "padding = kernel_size // 2\n",
    "\n",
    "median_image = np.zeros((image_height, image_width), dtype=np.uint8)\n",
    "\n",
    "for i in range(padding, image_height - padding):\n",
    "    for j in range(padding, image_width - padding):\n",
    "        neighborhood = image[i - padding:i + padding + 1, j - padding:j + padding + 1]\n",
    "        median_value = np.median(neighborhood)\n",
    "        median_image[i, j] = np.uint8(median_value)\n",
    "        \n",
    "cv2.imwrite('median_image.png', median_image)"
   ]
  },
  {
   "cell_type": "code",
   "execution_count": 10,
   "id": "80f5e317",
   "metadata": {},
   "outputs": [
    {
     "data": {
      "text/plain": [
       "True"
      ]
     },
     "execution_count": 10,
     "metadata": {},
     "output_type": "execute_result"
    }
   ],
   "source": [
    "image = cv2.imread('Uexposed.png')\n",
    "alpha = 2.0  \n",
    "beta = 100   \n",
    "adjusted_image = np.clip((alpha * image + beta), 0, 255).astype(np.uint8)\n",
    "cv2.imwrite('adjusted_image.png', adjusted_image)"
   ]
  },
  {
   "cell_type": "code",
   "execution_count": 11,
   "id": "1e851216",
   "metadata": {},
   "outputs": [
    {
     "data": {
      "text/plain": [
       "True"
      ]
     },
     "execution_count": 11,
     "metadata": {},
     "output_type": "execute_result"
    }
   ],
   "source": [
    "original_image = cv2.imread('Noisy_image.png', cv2.IMREAD_GRAYSCALE)\n",
    "\n",
    "fourier_transform = cv2.dft(np.float32(original_image), flags=cv2.DFT_COMPLEX_OUTPUT)\n",
    "\n",
    "magnitude_spectrum = cv2.magnitude(fourier_transform[:, :, 0], fourier_transform[:, :, 1])\n",
    "\n",
    "magnitude_spectrum = cv2.log(magnitude_spectrum + 1)\n",
    "magnitude_spectrum = cv2.normalize(magnitude_spectrum, None, 0, 255, cv2.NORM_MINMAX, cv2.CV_8U)\n",
    "\n",
    "cv2.imwrite('converted_fourier.png', magnitude_spectrum)"
   ]
  },
  {
   "cell_type": "code",
   "execution_count": 13,
   "id": "af59b248",
   "metadata": {},
   "outputs": [
    {
     "ename": "ValueError",
     "evalue": "operands could not be broadcast together with shapes (213,204) (213,213) ",
     "output_type": "error",
     "traceback": [
      "\u001b[1;31m---------------------------------------------------------------------------\u001b[0m",
      "\u001b[1;31mValueError\u001b[0m                                Traceback (most recent call last)",
      "\u001b[1;32m<ipython-input-13-c276fc20800c>\u001b[0m in \u001b[0;36m<module>\u001b[1;34m\u001b[0m\n\u001b[0;32m      7\u001b[0m \u001b[1;33m\u001b[0m\u001b[0m\n\u001b[0;32m      8\u001b[0m \u001b[0mgaussian_filter\u001b[0m \u001b[1;33m=\u001b[0m \u001b[0mcreate_gaussian_filter\u001b[0m\u001b[1;33m(\u001b[0m\u001b[0mfourier_image\u001b[0m\u001b[1;33m.\u001b[0m\u001b[0mshape\u001b[0m\u001b[1;33m[\u001b[0m\u001b[1;36m0\u001b[0m\u001b[1;33m]\u001b[0m\u001b[1;33m,\u001b[0m \u001b[0msigma\u001b[0m\u001b[1;33m=\u001b[0m\u001b[1;36m10\u001b[0m\u001b[1;33m)\u001b[0m\u001b[1;33m\u001b[0m\u001b[1;33m\u001b[0m\u001b[0m\n\u001b[1;32m----> 9\u001b[1;33m \u001b[0mconvolution_result\u001b[0m \u001b[1;33m=\u001b[0m \u001b[0mnp\u001b[0m\u001b[1;33m.\u001b[0m\u001b[0mfft\u001b[0m\u001b[1;33m.\u001b[0m\u001b[0mifft2\u001b[0m\u001b[1;33m(\u001b[0m\u001b[0mnp\u001b[0m\u001b[1;33m.\u001b[0m\u001b[0mfft\u001b[0m\u001b[1;33m.\u001b[0m\u001b[0mfftshift\u001b[0m\u001b[1;33m(\u001b[0m\u001b[0mnp\u001b[0m\u001b[1;33m.\u001b[0m\u001b[0mfft\u001b[0m\u001b[1;33m.\u001b[0m\u001b[0mfft2\u001b[0m\u001b[1;33m(\u001b[0m\u001b[0mfourier_image\u001b[0m\u001b[1;33m)\u001b[0m\u001b[1;33m)\u001b[0m \u001b[1;33m*\u001b[0m \u001b[0mgaussian_filter\u001b[0m\u001b[1;33m)\u001b[0m\u001b[1;33m\u001b[0m\u001b[1;33m\u001b[0m\u001b[0m\n\u001b[0m\u001b[0;32m     10\u001b[0m \u001b[1;33m\u001b[0m\u001b[0m\n\u001b[0;32m     11\u001b[0m \u001b[0mconvolution_result\u001b[0m \u001b[1;33m=\u001b[0m \u001b[0mnp\u001b[0m\u001b[1;33m.\u001b[0m\u001b[0mabs\u001b[0m\u001b[1;33m(\u001b[0m\u001b[0mnp\u001b[0m\u001b[1;33m.\u001b[0m\u001b[0mfft\u001b[0m\u001b[1;33m.\u001b[0m\u001b[0mifft2\u001b[0m\u001b[1;33m(\u001b[0m\u001b[0mconvolution_result\u001b[0m\u001b[1;33m)\u001b[0m\u001b[1;33m)\u001b[0m\u001b[1;33m\u001b[0m\u001b[1;33m\u001b[0m\u001b[0m\n",
      "\u001b[1;31mValueError\u001b[0m: operands could not be broadcast together with shapes (213,204) (213,213) "
     ]
    }
   ],
   "source": [
    "fourier_image = cv2.imread('converted_fourier.png', cv2.IMREAD_GRAYSCALE)\n",
    "\n",
    "def create_gaussian_filter(size, sigma):\n",
    "    x, y = np.meshgrid(np.linspace(-size//2, size//2, size), np.linspace(-size//2, size//2, size))\n",
    "    filter = np.exp(-(x**2 + y**2) / (2.0 * sigma**2))\n",
    "    return filter / np.sum(filter)\n",
    "\n",
    "gaussian_filter = create_gaussian_filter(fourier_image.shape[0], sigma=10)\n",
    "convolution_result = np.fft.ifft2(np.fft.fftshift(np.fft.fft2(fourier_image)) * gaussian_filter)\n",
    "\n",
    "convolution_result = np.abs(np.fft.ifft2(convolution_result))\n",
    "\n",
    "convolution_result = cv2.normalize(convolution_result, None, 0, 255, cv2.NORM_MINMAX, cv2.CV_8U)\n",
    "\n",
    "cv2.imwrite('gaussian_fourier.png', convolution_result)"
   ]
  },
  {
   "cell_type": "code",
   "execution_count": null,
   "id": "99fad1f3",
   "metadata": {},
   "outputs": [],
   "source": []
  }
 ],
 "metadata": {
  "kernelspec": {
   "display_name": "Python 3",
   "language": "python",
   "name": "python3"
  },
  "language_info": {
   "codemirror_mode": {
    "name": "ipython",
    "version": 3
   },
   "file_extension": ".py",
   "mimetype": "text/x-python",
   "name": "python",
   "nbconvert_exporter": "python",
   "pygments_lexer": "ipython3",
   "version": "3.10.12"
  }
 },
 "nbformat": 4,
 "nbformat_minor": 5
}
